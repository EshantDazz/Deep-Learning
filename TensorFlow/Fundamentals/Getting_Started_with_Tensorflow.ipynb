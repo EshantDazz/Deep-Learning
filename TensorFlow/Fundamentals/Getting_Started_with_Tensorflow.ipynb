{
  "nbformat": 4,
  "nbformat_minor": 0,
  "metadata": {
    "colab": {
      "provenance": [],
      "authorship_tag": "ABX9TyPmNCuSWVB5suPBlEI960Af",
      "include_colab_link": true
    },
    "kernelspec": {
      "name": "python3",
      "display_name": "Python 3"
    },
    "language_info": {
      "name": "python"
    },
    "accelerator": "GPU",
    "gpuClass": "standard"
  },
  "cells": [
    {
      "cell_type": "markdown",
      "metadata": {
        "id": "view-in-github",
        "colab_type": "text"
      },
      "source": [
        "<a href=\"https://colab.research.google.com/github/EshantDazz/Deep-Learning/blob/main/TensorFlow/Fundamentals/Getting_Started_with_Tensorflow.ipynb\" target=\"_parent\"><img src=\"https://colab.research.google.com/assets/colab-badge.svg\" alt=\"Open In Colab\"/></a>"
      ]
    },
    {
      "cell_type": "markdown",
      "source": [
        "# **<center><font color='clue'>Getting Started with Tensors</font></center>**"
      ],
      "metadata": {
        "id": "lfnqCFh8TX7M"
      }
    },
    {
      "cell_type": "markdown",
      "source": [
        "- Introduction to Tensors\n",
        "- Getting information from tensors\n",
        "- Manipulating Tensors\n",
        "- Tensors and Numpy\n",
        "- Using @tf.function ( a way to speed up your regular Python functions)\n",
        "- Using GPU with TensorFlow( or TPUs)"
      ],
      "metadata": {
        "id": "JKzmlxUVT2Ir"
      }
    },
    {
      "cell_type": "code",
      "execution_count": null,
      "metadata": {
        "id": "pqLS_Rh_S9Rf"
      },
      "outputs": [],
      "source": []
    },
    {
      "cell_type": "markdown",
      "source": [
        "## **Introduction to Tensorflow**"
      ],
      "metadata": {
        "id": "zQvu1COKUDc1"
      }
    },
    {
      "cell_type": "code",
      "source": [
        "import tensorflow as tf"
      ],
      "metadata": {
        "id": "eG9DWT49T4nN"
      },
      "execution_count": null,
      "outputs": []
    },
    {
      "cell_type": "code",
      "source": [
        "tf.__version__"
      ],
      "metadata": {
        "colab": {
          "base_uri": "https://localhost:8080/",
          "height": 36
        },
        "id": "kfAd07IUT6Sk",
        "outputId": "29b6694c-a0f3-4a24-fc78-266cbff29fca"
      },
      "execution_count": null,
      "outputs": [
        {
          "output_type": "execute_result",
          "data": {
            "text/plain": [
              "'2.11.0'"
            ],
            "application/vnd.google.colaboratory.intrinsic+json": {
              "type": "string"
            }
          },
          "metadata": {},
          "execution_count": 155
        }
      ]
    },
    {
      "cell_type": "code",
      "source": [],
      "metadata": {
        "id": "soDTvGneUVPz"
      },
      "execution_count": null,
      "outputs": []
    },
    {
      "cell_type": "code",
      "source": [],
      "metadata": {
        "id": "nHBTlpZgW9gl"
      },
      "execution_count": null,
      "outputs": []
    },
    {
      "cell_type": "markdown",
      "source": [
        "In TensorFlow, tf.constant and tf.Variable are two different ways to create tensors with different properties.\n",
        "\n",
        "tf.constant creates a tensor whose value cannot be changed once it is defined. It is used for storing constant values that are not expected to change during training, such as hyperparameters or fixed input data. tf.constant takes a Python object as input and returns a tensor with the same value.<br>\n",
        "\n",
        "tf.Variable creates a tensor whose value can be changed during training. It is used for storing variables that are expected to change during training, such as weights and biases in a neural network. tf.Variable takes an initial value as input and returns a tensor with the same shape and type as the input."
      ],
      "metadata": {
        "id": "qGFDKueEXvti"
      }
    },
    {
      "cell_type": "markdown",
      "source": [
        "### <font color='pink'>**tf.constant**</font>"
      ],
      "metadata": {
        "id": "mn1mZguuW-cR"
      }
    },
    {
      "cell_type": "code",
      "source": [
        "#Creating tensors with tf.constant()\n",
        "scaler=tf.constant(7)\n",
        "scaler"
      ],
      "metadata": {
        "colab": {
          "base_uri": "https://localhost:8080/"
        },
        "id": "V0BN1rXEUawV",
        "outputId": "9d675eba-d02a-4dea-a555-934ecb9c2fbc"
      },
      "execution_count": null,
      "outputs": [
        {
          "output_type": "execute_result",
          "data": {
            "text/plain": [
              "<tf.Tensor: shape=(), dtype=int32, numpy=7>"
            ]
          },
          "metadata": {},
          "execution_count": 156
        }
      ]
    },
    {
      "cell_type": "code",
      "source": [
        "#Checking the number of dimensions of the tensor\n",
        "scaler.ndim"
      ],
      "metadata": {
        "colab": {
          "base_uri": "https://localhost:8080/"
        },
        "id": "_L4mmwHyU4kf",
        "outputId": "1b5006bd-b1b3-4c67-ee7e-d99f65e23324"
      },
      "execution_count": null,
      "outputs": [
        {
          "output_type": "execute_result",
          "data": {
            "text/plain": [
              "0"
            ]
          },
          "metadata": {},
          "execution_count": 157
        }
      ]
    },
    {
      "cell_type": "code",
      "source": [
        "#Creating a vector\n",
        "vector=tf.constant([10,10])\n",
        "vector"
      ],
      "metadata": {
        "colab": {
          "base_uri": "https://localhost:8080/"
        },
        "id": "c8dZG8_tU-pd",
        "outputId": "dd22131a-78a8-47f8-ce03-09346b7ef4fc"
      },
      "execution_count": null,
      "outputs": [
        {
          "output_type": "execute_result",
          "data": {
            "text/plain": [
              "<tf.Tensor: shape=(2,), dtype=int32, numpy=array([10, 10], dtype=int32)>"
            ]
          },
          "metadata": {},
          "execution_count": 158
        }
      ]
    },
    {
      "cell_type": "code",
      "source": [
        "vector.ndim"
      ],
      "metadata": {
        "colab": {
          "base_uri": "https://localhost:8080/"
        },
        "id": "9BfElHuoVPbE",
        "outputId": "36dd8cae-02d0-4ed1-ce1f-8188f2077c78"
      },
      "execution_count": null,
      "outputs": [
        {
          "output_type": "execute_result",
          "data": {
            "text/plain": [
              "1"
            ]
          },
          "metadata": {},
          "execution_count": 159
        }
      ]
    },
    {
      "cell_type": "code",
      "source": [],
      "metadata": {
        "id": "V_SokZbjVTHC"
      },
      "execution_count": null,
      "outputs": []
    },
    {
      "cell_type": "code",
      "source": [
        "#Creating a matrix\n",
        "matrix=tf.constant([[10,7],\n",
        "                    [23,27]])\n",
        "matrix"
      ],
      "metadata": {
        "colab": {
          "base_uri": "https://localhost:8080/"
        },
        "id": "L8xRtsOuVYkO",
        "outputId": "8ea26fa7-1d0f-4b59-977e-dd1c08453471"
      },
      "execution_count": null,
      "outputs": [
        {
          "output_type": "execute_result",
          "data": {
            "text/plain": [
              "<tf.Tensor: shape=(2, 2), dtype=int32, numpy=\n",
              "array([[10,  7],\n",
              "       [23, 27]], dtype=int32)>"
            ]
          },
          "metadata": {},
          "execution_count": 160
        }
      ]
    },
    {
      "cell_type": "code",
      "source": [
        "matrix.ndim"
      ],
      "metadata": {
        "colab": {
          "base_uri": "https://localhost:8080/"
        },
        "id": "dz6bGII1VkYV",
        "outputId": "52d18985-c863-4ae8-fd42-7d0363e68f45"
      },
      "execution_count": null,
      "outputs": [
        {
          "output_type": "execute_result",
          "data": {
            "text/plain": [
              "2"
            ]
          },
          "metadata": {},
          "execution_count": 161
        }
      ]
    },
    {
      "cell_type": "code",
      "source": [],
      "metadata": {
        "id": "f2HWlWDnVn7f"
      },
      "execution_count": null,
      "outputs": []
    },
    {
      "cell_type": "markdown",
      "source": [
        "**Tensor**: It is basicallty an n dimensional array"
      ],
      "metadata": {
        "id": "Ifa_6r69WpwI"
      }
    },
    {
      "cell_type": "code",
      "source": [],
      "metadata": {
        "id": "mK4T7bDGWBJf"
      },
      "execution_count": null,
      "outputs": []
    },
    {
      "cell_type": "code",
      "source": [],
      "metadata": {
        "id": "pSZg_d8OW1uq"
      },
      "execution_count": null,
      "outputs": []
    },
    {
      "cell_type": "markdown",
      "source": [
        "### <font color='pink'>**tf.Variable**</font>"
      ],
      "metadata": {
        "id": "ykmHCMjbXNSF"
      }
    },
    {
      "cell_type": "code",
      "source": [
        "#Creating a tensor with tf.variable\n",
        "variable_tensor=tf.Variable([[23,43],[45,67]])\n",
        "variable_tensor"
      ],
      "metadata": {
        "colab": {
          "base_uri": "https://localhost:8080/"
        },
        "id": "SEPPhk80XO6O",
        "outputId": "465ec452-d5c9-4906-e85f-309501dde1ac"
      },
      "execution_count": null,
      "outputs": [
        {
          "output_type": "execute_result",
          "data": {
            "text/plain": [
              "<tf.Variable 'Variable:0' shape=(2, 2) dtype=int32, numpy=\n",
              "array([[23, 43],\n",
              "       [45, 67]], dtype=int32)>"
            ]
          },
          "metadata": {},
          "execution_count": 162
        }
      ]
    },
    {
      "cell_type": "code",
      "source": [
        "static_tensor=tf.constant([[23,43],[45,67]])"
      ],
      "metadata": {
        "id": "Ch_KCQ6QYpN0"
      },
      "execution_count": null,
      "outputs": []
    },
    {
      "cell_type": "code",
      "source": [
        "print(variable_tensor,static_tensor)"
      ],
      "metadata": {
        "colab": {
          "base_uri": "https://localhost:8080/"
        },
        "id": "co_kJUBsZEEB",
        "outputId": "6269d6eb-bf13-4066-f650-396e646f61ba"
      },
      "execution_count": null,
      "outputs": [
        {
          "output_type": "stream",
          "name": "stdout",
          "text": [
            "<tf.Variable 'Variable:0' shape=(2, 2) dtype=int32, numpy=\n",
            "array([[23, 43],\n",
            "       [45, 67]], dtype=int32)> tf.Tensor(\n",
            "[[23 43]\n",
            " [45 67]], shape=(2, 2), dtype=int32)\n"
          ]
        }
      ]
    },
    {
      "cell_type": "code",
      "source": [],
      "metadata": {
        "id": "WBGdgKHOZImE"
      },
      "execution_count": null,
      "outputs": []
    },
    {
      "cell_type": "code",
      "source": [
        "#Changing the value of a variable_tensor\n",
        "variable_tensor[0].assign(13)\n",
        "variable_tensor"
      ],
      "metadata": {
        "colab": {
          "base_uri": "https://localhost:8080/"
        },
        "id": "rHDHRP9BZWcO",
        "outputId": "cccaa4cd-edb9-4235-faae-7c6752bb44d6"
      },
      "execution_count": null,
      "outputs": [
        {
          "output_type": "execute_result",
          "data": {
            "text/plain": [
              "<tf.Variable 'Variable:0' shape=(2, 2) dtype=int32, numpy=\n",
              "array([[13, 13],\n",
              "       [45, 67]], dtype=int32)>"
            ]
          },
          "metadata": {},
          "execution_count": 165
        }
      ]
    },
    {
      "cell_type": "code",
      "source": [
        "#The same thing won't work with the static or unchangable tensor even when we use assign"
      ],
      "metadata": {
        "id": "Nl1vAgoOZg_T"
      },
      "execution_count": null,
      "outputs": []
    },
    {
      "cell_type": "code",
      "source": [],
      "metadata": {
        "id": "JHKVvOjIZp6t"
      },
      "execution_count": null,
      "outputs": []
    },
    {
      "cell_type": "code",
      "source": [],
      "metadata": {
        "id": "0qczaWrOZ0dB"
      },
      "execution_count": null,
      "outputs": []
    },
    {
      "cell_type": "markdown",
      "source": [
        "### <font color='pink'>**Creating Random Tensors**</font>"
      ],
      "metadata": {
        "id": "JzJ3FvudZxVI"
      }
    },
    {
      "cell_type": "markdown",
      "source": [
        "Random tensors are tensors of some abitary size which contains some numbers"
      ],
      "metadata": {
        "id": "wWTE9QyQMzbP"
      }
    },
    {
      "cell_type": "code",
      "source": [
        "#Creating Random tensors\n",
        "r1=tf.random.Generator.from_seed(69)\n",
        "r1"
      ],
      "metadata": {
        "id": "-WKIgu2qZzlN",
        "colab": {
          "base_uri": "https://localhost:8080/"
        },
        "outputId": "463fc321-5a1c-429d-fd07-4fe220727ef0"
      },
      "execution_count": null,
      "outputs": [
        {
          "output_type": "execute_result",
          "data": {
            "text/plain": [
              "<tensorflow.python.ops.stateful_random_ops.Generator at 0x7f8f6bc43b50>"
            ]
          },
          "metadata": {},
          "execution_count": 167
        }
      ]
    },
    {
      "cell_type": "code",
      "source": [
        "r1=r1.normal(shape=(3,2))\n",
        "r1"
      ],
      "metadata": {
        "colab": {
          "base_uri": "https://localhost:8080/"
        },
        "id": "n_B4WmB-OFmr",
        "outputId": "015052ad-c371-4d27-eaea-7ce7011b5e68"
      },
      "execution_count": null,
      "outputs": [
        {
          "output_type": "execute_result",
          "data": {
            "text/plain": [
              "<tf.Tensor: shape=(3, 2), dtype=float32, numpy=\n",
              "array([[ 0.29164317,  1.4531525 ],\n",
              "       [-0.8223833 , -1.3446563 ],\n",
              "       [-0.7183838 , -0.20373915]], dtype=float32)>"
            ]
          },
          "metadata": {},
          "execution_count": 168
        }
      ]
    },
    {
      "cell_type": "code",
      "source": [],
      "metadata": {
        "id": "kfKkIOA4OTa3"
      },
      "execution_count": null,
      "outputs": []
    },
    {
      "cell_type": "code",
      "source": [
        "#Shuffling the orders of tensors\n",
        "\"\"\"\n",
        "From Video:\n",
        "To mix up all the pizza and ramen so that it does not get all the pizza value first and then ramen\n",
        "\"\"\"\n",
        "\n",
        "#That is why we shuffle a tensor"
      ],
      "metadata": {
        "colab": {
          "base_uri": "https://localhost:8080/",
          "height": 36
        },
        "id": "3ylAdtHQOjTr",
        "outputId": "a6cc1052-98ee-4ed3-8ce6-efb0272ac32a"
      },
      "execution_count": null,
      "outputs": [
        {
          "output_type": "execute_result",
          "data": {
            "text/plain": [
              "'\\nFrom Video:\\nTo mix up all the pizza and ramen so that it does not get all the pizza value first and then ramen\\n'"
            ],
            "application/vnd.google.colaboratory.intrinsic+json": {
              "type": "string"
            }
          },
          "metadata": {},
          "execution_count": 169
        }
      ]
    },
    {
      "cell_type": "code",
      "source": [
        "not_shiffled=tf.constant([[10,4],\n",
        "                          [5,6],\n",
        "                          [90,34]])\n",
        "\n",
        "#Shuffle our non-shuffled tensor\n",
        "tf.random.shuffle(not_shiffled)"
      ],
      "metadata": {
        "colab": {
          "base_uri": "https://localhost:8080/"
        },
        "id": "WYlvEsZHO73M",
        "outputId": "f20679d0-46e4-44e1-963b-dfb918afb1bd"
      },
      "execution_count": null,
      "outputs": [
        {
          "output_type": "execute_result",
          "data": {
            "text/plain": [
              "<tf.Tensor: shape=(3, 2), dtype=int32, numpy=\n",
              "array([[90, 34],\n",
              "       [10,  4],\n",
              "       [ 5,  6]], dtype=int32)>"
            ]
          },
          "metadata": {},
          "execution_count": 170
        }
      ]
    },
    {
      "cell_type": "code",
      "source": [
        "#Using seed\n",
        "tf.random.set_seed(30)\n",
        "tf.random.shuffle(not_shiffled)"
      ],
      "metadata": {
        "colab": {
          "base_uri": "https://localhost:8080/"
        },
        "id": "BHROsZE8Rl9j",
        "outputId": "4e8ee9fa-b08a-4e03-acbf-5bc3c58d772f"
      },
      "execution_count": null,
      "outputs": [
        {
          "output_type": "execute_result",
          "data": {
            "text/plain": [
              "<tf.Tensor: shape=(3, 2), dtype=int32, numpy=\n",
              "array([[10,  4],\n",
              "       [90, 34],\n",
              "       [ 5,  6]], dtype=int32)>"
            ]
          },
          "metadata": {},
          "execution_count": 171
        }
      ]
    },
    {
      "cell_type": "code",
      "source": [],
      "metadata": {
        "id": "7R7OTuDoTN1i"
      },
      "execution_count": null,
      "outputs": []
    },
    {
      "cell_type": "code",
      "source": [
        "#Using global seed and operation level seed in order to keep our shuffled tensors in the same order\n",
        "tf.random.set_seed(30)\n",
        "tf.random.shuffle(not_shiffled,seed=30)"
      ],
      "metadata": {
        "colab": {
          "base_uri": "https://localhost:8080/"
        },
        "id": "_LeT1XufTN31",
        "outputId": "5b204fdf-4b5b-4e37-f492-1e7be15223f3"
      },
      "execution_count": null,
      "outputs": [
        {
          "output_type": "execute_result",
          "data": {
            "text/plain": [
              "<tf.Tensor: shape=(3, 2), dtype=int32, numpy=\n",
              "array([[90, 34],\n",
              "       [10,  4],\n",
              "       [ 5,  6]], dtype=int32)>"
            ]
          },
          "metadata": {},
          "execution_count": 172
        }
      ]
    },
    {
      "cell_type": "code",
      "source": [],
      "metadata": {
        "id": "0IjIkWO4R7gY"
      },
      "execution_count": null,
      "outputs": []
    },
    {
      "cell_type": "markdown",
      "source": [
        "### <font color='pink'>**Creating Tensors from Numpy Array**</font>"
      ],
      "metadata": {
        "id": "XpnWo8WKS3wl"
      }
    },
    {
      "cell_type": "code",
      "source": [
        "#Teensor of all ones\n",
        "tf.ones([3,4])"
      ],
      "metadata": {
        "colab": {
          "base_uri": "https://localhost:8080/"
        },
        "id": "5UIKvZHhS3Ao",
        "outputId": "a0069df1-a902-4a68-c3a8-c36c4aca4088"
      },
      "execution_count": null,
      "outputs": [
        {
          "output_type": "execute_result",
          "data": {
            "text/plain": [
              "<tf.Tensor: shape=(3, 4), dtype=float32, numpy=\n",
              "array([[1., 1., 1., 1.],\n",
              "       [1., 1., 1., 1.],\n",
              "       [1., 1., 1., 1.]], dtype=float32)>"
            ]
          },
          "metadata": {},
          "execution_count": 173
        }
      ]
    },
    {
      "cell_type": "code",
      "source": [
        "tf.zeros(shape=(3,4),dtype=tf.int32)"
      ],
      "metadata": {
        "colab": {
          "base_uri": "https://localhost:8080/"
        },
        "id": "34DdAdH-S3Ix",
        "outputId": "d64a2a81-ec33-4aaf-bc30-7cc8a427c98e"
      },
      "execution_count": null,
      "outputs": [
        {
          "output_type": "execute_result",
          "data": {
            "text/plain": [
              "<tf.Tensor: shape=(3, 4), dtype=int32, numpy=\n",
              "array([[0, 0, 0, 0],\n",
              "       [0, 0, 0, 0],\n",
              "       [0, 0, 0, 0]], dtype=int32)>"
            ]
          },
          "metadata": {},
          "execution_count": 174
        }
      ]
    },
    {
      "cell_type": "markdown",
      "source": [
        "-  <font color='yellow'>**The main difference between Numpy arrays and TensforFlow tensors is that tensors can be run on a GPU(much faster than numerical computing)**</font>"
      ],
      "metadata": {
        "id": "faxX-Nz3Vg6f"
      }
    },
    {
      "cell_type": "code",
      "source": [
        "import numpy as np\n",
        "a=np.arange(1,25,dtype='int32')\n",
        "a"
      ],
      "metadata": {
        "colab": {
          "base_uri": "https://localhost:8080/"
        },
        "id": "Uv96y3bRV0nG",
        "outputId": "1a606dee-3dcf-4567-e8e2-9dcb7b1ac9ee"
      },
      "execution_count": null,
      "outputs": [
        {
          "output_type": "execute_result",
          "data": {
            "text/plain": [
              "array([ 1,  2,  3,  4,  5,  6,  7,  8,  9, 10, 11, 12, 13, 14, 15, 16, 17,\n",
              "       18, 19, 20, 21, 22, 23, 24], dtype=int32)"
            ]
          },
          "metadata": {},
          "execution_count": 175
        }
      ]
    },
    {
      "cell_type": "code",
      "source": [
        "A=tf.constant(a)\n",
        "A"
      ],
      "metadata": {
        "colab": {
          "base_uri": "https://localhost:8080/"
        },
        "id": "IoiX95tiV-RF",
        "outputId": "dd1fdf02-f0e6-45f2-c543-76a04ea7a49e"
      },
      "execution_count": null,
      "outputs": [
        {
          "output_type": "execute_result",
          "data": {
            "text/plain": [
              "<tf.Tensor: shape=(24,), dtype=int32, numpy=\n",
              "array([ 1,  2,  3,  4,  5,  6,  7,  8,  9, 10, 11, 12, 13, 14, 15, 16, 17,\n",
              "       18, 19, 20, 21, 22, 23, 24], dtype=int32)>"
            ]
          },
          "metadata": {},
          "execution_count": 176
        }
      ]
    },
    {
      "cell_type": "code",
      "source": [
        "#Changing the shape and dimension of it\n",
        "A=tf.constant(a,shape=(2,3,4))\n",
        "A"
      ],
      "metadata": {
        "colab": {
          "base_uri": "https://localhost:8080/"
        },
        "id": "_a1_OAcxWIKR",
        "outputId": "bfe6e53c-c533-46bb-9032-a82f8f360aea"
      },
      "execution_count": null,
      "outputs": [
        {
          "output_type": "execute_result",
          "data": {
            "text/plain": [
              "<tf.Tensor: shape=(2, 3, 4), dtype=int32, numpy=\n",
              "array([[[ 1,  2,  3,  4],\n",
              "        [ 5,  6,  7,  8],\n",
              "        [ 9, 10, 11, 12]],\n",
              "\n",
              "       [[13, 14, 15, 16],\n",
              "        [17, 18, 19, 20],\n",
              "        [21, 22, 23, 24]]], dtype=int32)>"
            ]
          },
          "metadata": {},
          "execution_count": 177
        }
      ]
    },
    {
      "cell_type": "code",
      "source": [
        "A.ndim"
      ],
      "metadata": {
        "colab": {
          "base_uri": "https://localhost:8080/"
        },
        "id": "WAPYrrr1WUX-",
        "outputId": "94e7d5d0-0153-4103-f93f-5ae9df02d4e8"
      },
      "execution_count": null,
      "outputs": [
        {
          "output_type": "execute_result",
          "data": {
            "text/plain": [
              "3"
            ]
          },
          "metadata": {},
          "execution_count": 178
        }
      ]
    },
    {
      "cell_type": "code",
      "source": [],
      "metadata": {
        "id": "Vce0w9gkWadu"
      },
      "execution_count": null,
      "outputs": []
    },
    {
      "cell_type": "code",
      "source": [],
      "metadata": {
        "id": "JIy2qxPRWnHf"
      },
      "execution_count": null,
      "outputs": []
    },
    {
      "cell_type": "markdown",
      "source": [
        "### <font color='pink'>**Getting Information from your tensors**</font>"
      ],
      "metadata": {
        "id": "l1UmUPmqWniH"
      }
    },
    {
      "cell_type": "markdown",
      "source": [
        "- Shape\n",
        "- Dimension\n",
        "- Axis or dimension\n",
        "- Size"
      ],
      "metadata": {
        "id": "0AUhJL6JXVpq"
      }
    },
    {
      "cell_type": "code",
      "source": [
        "#Rank or Dimension 4 tensors\n",
        "rr=tf.zeros(shape=(2,3,4,5),dtype=tf.int32)\n",
        "rr"
      ],
      "metadata": {
        "colab": {
          "base_uri": "https://localhost:8080/"
        },
        "id": "M3r7Cv-bXLso",
        "outputId": "37e7bb34-7eb2-4d0b-c74d-d8678b07ef14"
      },
      "execution_count": null,
      "outputs": [
        {
          "output_type": "execute_result",
          "data": {
            "text/plain": [
              "<tf.Tensor: shape=(2, 3, 4, 5), dtype=int32, numpy=\n",
              "array([[[[0, 0, 0, 0, 0],\n",
              "         [0, 0, 0, 0, 0],\n",
              "         [0, 0, 0, 0, 0],\n",
              "         [0, 0, 0, 0, 0]],\n",
              "\n",
              "        [[0, 0, 0, 0, 0],\n",
              "         [0, 0, 0, 0, 0],\n",
              "         [0, 0, 0, 0, 0],\n",
              "         [0, 0, 0, 0, 0]],\n",
              "\n",
              "        [[0, 0, 0, 0, 0],\n",
              "         [0, 0, 0, 0, 0],\n",
              "         [0, 0, 0, 0, 0],\n",
              "         [0, 0, 0, 0, 0]]],\n",
              "\n",
              "\n",
              "       [[[0, 0, 0, 0, 0],\n",
              "         [0, 0, 0, 0, 0],\n",
              "         [0, 0, 0, 0, 0],\n",
              "         [0, 0, 0, 0, 0]],\n",
              "\n",
              "        [[0, 0, 0, 0, 0],\n",
              "         [0, 0, 0, 0, 0],\n",
              "         [0, 0, 0, 0, 0],\n",
              "         [0, 0, 0, 0, 0]],\n",
              "\n",
              "        [[0, 0, 0, 0, 0],\n",
              "         [0, 0, 0, 0, 0],\n",
              "         [0, 0, 0, 0, 0],\n",
              "         [0, 0, 0, 0, 0]]]], dtype=int32)>"
            ]
          },
          "metadata": {},
          "execution_count": 179
        }
      ]
    },
    {
      "cell_type": "code",
      "source": [],
      "metadata": {
        "id": "MPVqy_kXbAV4"
      },
      "execution_count": null,
      "outputs": []
    },
    {
      "cell_type": "code",
      "source": [
        "print(\"Shape= \",rr.shape)\n",
        "print(\"Dimension=  \",rr.ndim)\n",
        "print(\"Size = \",tf.size(rr))\n",
        "print(\"Size in numpy= \",tf.size(rr).numpy())\n",
        "print(\"Dtype = \",rr.dtype)"
      ],
      "metadata": {
        "colab": {
          "base_uri": "https://localhost:8080/"
        },
        "id": "eCiH1gZKbP51",
        "outputId": "29d83640-e454-422f-d5aa-005c0fc401eb"
      },
      "execution_count": null,
      "outputs": [
        {
          "output_type": "stream",
          "name": "stdout",
          "text": [
            "Shape=  (2, 3, 4, 5)\n",
            "Dimension=   4\n",
            "Size =  tf.Tensor(120, shape=(), dtype=int32)\n",
            "Size in numpy=  120\n",
            "Dtype =  <dtype: 'int32'>\n"
          ]
        }
      ]
    },
    {
      "cell_type": "code",
      "source": [],
      "metadata": {
        "id": "90iTa__xbnub"
      },
      "execution_count": null,
      "outputs": []
    },
    {
      "cell_type": "markdown",
      "source": [
        "### <font color='pink'>**Indexing and Appending Tensors**</font>"
      ],
      "metadata": {
        "id": "n5vcMJs9efWD"
      }
    },
    {
      "cell_type": "code",
      "source": [
        "rr"
      ],
      "metadata": {
        "colab": {
          "base_uri": "https://localhost:8080/"
        },
        "id": "o9gsMlDTejHt",
        "outputId": "2512ee45-4ce9-4302-b8e9-cc7c0fadd2e3"
      },
      "execution_count": null,
      "outputs": [
        {
          "output_type": "execute_result",
          "data": {
            "text/plain": [
              "<tf.Tensor: shape=(2, 3, 4, 5), dtype=int32, numpy=\n",
              "array([[[[0, 0, 0, 0, 0],\n",
              "         [0, 0, 0, 0, 0],\n",
              "         [0, 0, 0, 0, 0],\n",
              "         [0, 0, 0, 0, 0]],\n",
              "\n",
              "        [[0, 0, 0, 0, 0],\n",
              "         [0, 0, 0, 0, 0],\n",
              "         [0, 0, 0, 0, 0],\n",
              "         [0, 0, 0, 0, 0]],\n",
              "\n",
              "        [[0, 0, 0, 0, 0],\n",
              "         [0, 0, 0, 0, 0],\n",
              "         [0, 0, 0, 0, 0],\n",
              "         [0, 0, 0, 0, 0]]],\n",
              "\n",
              "\n",
              "       [[[0, 0, 0, 0, 0],\n",
              "         [0, 0, 0, 0, 0],\n",
              "         [0, 0, 0, 0, 0],\n",
              "         [0, 0, 0, 0, 0]],\n",
              "\n",
              "        [[0, 0, 0, 0, 0],\n",
              "         [0, 0, 0, 0, 0],\n",
              "         [0, 0, 0, 0, 0],\n",
              "         [0, 0, 0, 0, 0]],\n",
              "\n",
              "        [[0, 0, 0, 0, 0],\n",
              "         [0, 0, 0, 0, 0],\n",
              "         [0, 0, 0, 0, 0],\n",
              "         [0, 0, 0, 0, 0]]]], dtype=int32)>"
            ]
          },
          "metadata": {},
          "execution_count": 181
        }
      ]
    },
    {
      "cell_type": "code",
      "source": [
        "rr[:2,:2,:2,:2]"
      ],
      "metadata": {
        "colab": {
          "base_uri": "https://localhost:8080/"
        },
        "id": "Us9EqXhShkTi",
        "outputId": "d9199515-d2b1-49d2-d060-3625f0ff0743"
      },
      "execution_count": null,
      "outputs": [
        {
          "output_type": "execute_result",
          "data": {
            "text/plain": [
              "<tf.Tensor: shape=(2, 2, 2, 2), dtype=int32, numpy=\n",
              "array([[[[0, 0],\n",
              "         [0, 0]],\n",
              "\n",
              "        [[0, 0],\n",
              "         [0, 0]]],\n",
              "\n",
              "\n",
              "       [[[0, 0],\n",
              "         [0, 0]],\n",
              "\n",
              "        [[0, 0],\n",
              "         [0, 0]]]], dtype=int32)>"
            ]
          },
          "metadata": {},
          "execution_count": 182
        }
      ]
    },
    {
      "cell_type": "code",
      "source": [
        "rr[:1,:1,:1,:]"
      ],
      "metadata": {
        "colab": {
          "base_uri": "https://localhost:8080/"
        },
        "id": "XWRQv8Tbixj_",
        "outputId": "5d969f84-3a0a-43f8-f2c3-90a5278e46ca"
      },
      "execution_count": null,
      "outputs": [
        {
          "output_type": "execute_result",
          "data": {
            "text/plain": [
              "<tf.Tensor: shape=(1, 1, 1, 5), dtype=int32, numpy=array([[[[0, 0, 0, 0, 0]]]], dtype=int32)>"
            ]
          },
          "metadata": {},
          "execution_count": 183
        }
      ]
    },
    {
      "cell_type": "code",
      "source": [
        "rr[:1,:1,:1,:].numpy()"
      ],
      "metadata": {
        "colab": {
          "base_uri": "https://localhost:8080/"
        },
        "id": "_7gJEVT7i-ca",
        "outputId": "e64638aa-23b2-43b8-e840-e63d32ab84e4"
      },
      "execution_count": null,
      "outputs": [
        {
          "output_type": "execute_result",
          "data": {
            "text/plain": [
              "array([[[[0, 0, 0, 0, 0]]]], dtype=int32)"
            ]
          },
          "metadata": {},
          "execution_count": 184
        }
      ]
    },
    {
      "cell_type": "code",
      "source": [],
      "metadata": {
        "id": "_5rf6JK7rM1w"
      },
      "execution_count": null,
      "outputs": []
    },
    {
      "cell_type": "code",
      "source": [
        "#Creating a rank 2 tensor\n",
        "rr=tf.constant([[10,7],\n",
        "                [45,6]])"
      ],
      "metadata": {
        "id": "OltyMltUrVEz"
      },
      "execution_count": null,
      "outputs": []
    },
    {
      "cell_type": "code",
      "source": [
        "print(\"Shape= \",rr.shape)\n",
        "print(\"Dimension=  \",rr.ndim)\n",
        "print(\"Size = \",tf.size(rr))\n",
        "print(\"Size in numpy= \",tf.size(rr).numpy())\n",
        "print(\"Dtype = \",rr.dtype)"
      ],
      "metadata": {
        "colab": {
          "base_uri": "https://localhost:8080/"
        },
        "id": "4VkiZHXmrdpr",
        "outputId": "8b44acbf-288b-4ced-9341-88a1bb81d466"
      },
      "execution_count": null,
      "outputs": [
        {
          "output_type": "stream",
          "name": "stdout",
          "text": [
            "Shape=  (2, 2)\n",
            "Dimension=   2\n",
            "Size =  tf.Tensor(4, shape=(), dtype=int32)\n",
            "Size in numpy=  4\n",
            "Dtype =  <dtype: 'int32'>\n"
          ]
        }
      ]
    },
    {
      "cell_type": "code",
      "source": [],
      "metadata": {
        "id": "yvbBZ7nDrkLC"
      },
      "execution_count": null,
      "outputs": []
    },
    {
      "cell_type": "code",
      "source": [
        "##Getting the last item of each row\n",
        "rr[:,-1]"
      ],
      "metadata": {
        "colab": {
          "base_uri": "https://localhost:8080/"
        },
        "id": "_ecds1BerrPR",
        "outputId": "edeb203a-9912-42b2-c426-c221d5811830"
      },
      "execution_count": null,
      "outputs": [
        {
          "output_type": "execute_result",
          "data": {
            "text/plain": [
              "<tf.Tensor: shape=(2,), dtype=int32, numpy=array([7, 6], dtype=int32)>"
            ]
          },
          "metadata": {},
          "execution_count": 187
        }
      ]
    },
    {
      "cell_type": "code",
      "source": [],
      "metadata": {
        "id": "dZ2zwN4KssdJ"
      },
      "execution_count": null,
      "outputs": []
    },
    {
      "cell_type": "code",
      "source": [
        "rr"
      ],
      "metadata": {
        "colab": {
          "base_uri": "https://localhost:8080/"
        },
        "id": "eIg9nJTwsshC",
        "outputId": "4b44433f-d577-4015-8311-80d6e0100f8e"
      },
      "execution_count": null,
      "outputs": [
        {
          "output_type": "execute_result",
          "data": {
            "text/plain": [
              "<tf.Tensor: shape=(2, 2), dtype=int32, numpy=\n",
              "array([[10,  7],\n",
              "       [45,  6]], dtype=int32)>"
            ]
          },
          "metadata": {},
          "execution_count": 188
        }
      ]
    },
    {
      "cell_type": "code",
      "source": [
        "####Adding an extra dimension to our rank 2 tensor\n",
        "rr2=rr[...,tf.newaxis]\n",
        "rr2"
      ],
      "metadata": {
        "colab": {
          "base_uri": "https://localhost:8080/"
        },
        "id": "HHbMssGLruSW",
        "outputId": "1b5b7d4d-2e4c-43b9-b451-763bfbba4713"
      },
      "execution_count": null,
      "outputs": [
        {
          "output_type": "execute_result",
          "data": {
            "text/plain": [
              "<tf.Tensor: shape=(2, 2, 1), dtype=int32, numpy=\n",
              "array([[[10],\n",
              "        [ 7]],\n",
              "\n",
              "       [[45],\n",
              "        [ 6]]], dtype=int32)>"
            ]
          },
          "metadata": {},
          "execution_count": 189
        }
      ]
    },
    {
      "cell_type": "code",
      "source": [
        "##Alternative to tf.newaxis\n",
        "tf.expand_dims(rr,axis=-1) #'-1' means expand the final axis"
      ],
      "metadata": {
        "colab": {
          "base_uri": "https://localhost:8080/"
        },
        "id": "nPnOGLp8srOi",
        "outputId": "03aaaa97-6043-459d-c05d-4bf302b4d75e"
      },
      "execution_count": null,
      "outputs": [
        {
          "output_type": "execute_result",
          "data": {
            "text/plain": [
              "<tf.Tensor: shape=(2, 2, 1), dtype=int32, numpy=\n",
              "array([[[10],\n",
              "        [ 7]],\n",
              "\n",
              "       [[45],\n",
              "        [ 6]]], dtype=int32)>"
            ]
          },
          "metadata": {},
          "execution_count": 190
        }
      ]
    },
    {
      "cell_type": "code",
      "source": [
        "tf.expand_dims(rr,axis=0)"
      ],
      "metadata": {
        "colab": {
          "base_uri": "https://localhost:8080/"
        },
        "id": "tHEVUAVGtUHE",
        "outputId": "7c8bcb74-f34d-472c-b18e-8b5dd2fb6058"
      },
      "execution_count": null,
      "outputs": [
        {
          "output_type": "execute_result",
          "data": {
            "text/plain": [
              "<tf.Tensor: shape=(1, 2, 2), dtype=int32, numpy=\n",
              "array([[[10,  7],\n",
              "        [45,  6]]], dtype=int32)>"
            ]
          },
          "metadata": {},
          "execution_count": 191
        }
      ]
    },
    {
      "cell_type": "code",
      "source": [
        "tf.expand_dims(rr,axis=1)"
      ],
      "metadata": {
        "colab": {
          "base_uri": "https://localhost:8080/"
        },
        "id": "qQEscteHtmJI",
        "outputId": "1aa587e2-579e-41f8-97b8-22b245843e0e"
      },
      "execution_count": null,
      "outputs": [
        {
          "output_type": "execute_result",
          "data": {
            "text/plain": [
              "<tf.Tensor: shape=(2, 1, 2), dtype=int32, numpy=\n",
              "array([[[10,  7]],\n",
              "\n",
              "       [[45,  6]]], dtype=int32)>"
            ]
          },
          "metadata": {},
          "execution_count": 192
        }
      ]
    },
    {
      "cell_type": "code",
      "source": [],
      "metadata": {
        "id": "gClko0eFtqYp"
      },
      "execution_count": null,
      "outputs": []
    },
    {
      "cell_type": "code",
      "source": [],
      "metadata": {
        "id": "767O2oryt6D2"
      },
      "execution_count": null,
      "outputs": []
    },
    {
      "cell_type": "markdown",
      "source": [
        "### <font color='pink'>**Manipulating Tensors with basic operation**</font>"
      ],
      "metadata": {
        "id": "SpENklfht6Jk"
      }
    },
    {
      "cell_type": "markdown",
      "source": [
        "**Basic Operations**\n",
        "`+,-,*,/`"
      ],
      "metadata": {
        "id": "sJ-YtuKLuQyD"
      }
    },
    {
      "cell_type": "code",
      "source": [
        "tt=tf.constant([[10,7],\n",
        "                [4,5]])\n",
        "tt"
      ],
      "metadata": {
        "colab": {
          "base_uri": "https://localhost:8080/"
        },
        "id": "AI4VYc-xt-Mb",
        "outputId": "825c8be8-cb72-4c67-8e05-87353c1348a4"
      },
      "execution_count": null,
      "outputs": [
        {
          "output_type": "execute_result",
          "data": {
            "text/plain": [
              "<tf.Tensor: shape=(2, 2), dtype=int32, numpy=\n",
              "array([[10,  7],\n",
              "       [ 4,  5]], dtype=int32)>"
            ]
          },
          "metadata": {},
          "execution_count": 193
        }
      ]
    },
    {
      "cell_type": "code",
      "source": [
        "tt+10"
      ],
      "metadata": {
        "colab": {
          "base_uri": "https://localhost:8080/"
        },
        "id": "S8x8SPr2ucar",
        "outputId": "aa6ffc91-ac7a-41a7-dbcf-3243747fc9ff"
      },
      "execution_count": null,
      "outputs": [
        {
          "output_type": "execute_result",
          "data": {
            "text/plain": [
              "<tf.Tensor: shape=(2, 2), dtype=int32, numpy=\n",
              "array([[20, 17],\n",
              "       [14, 15]], dtype=int32)>"
            ]
          },
          "metadata": {},
          "execution_count": 194
        }
      ]
    },
    {
      "cell_type": "code",
      "source": [
        "tt*10"
      ],
      "metadata": {
        "colab": {
          "base_uri": "https://localhost:8080/"
        },
        "id": "rz7rW8gUueKt",
        "outputId": "5d7b6b42-b97b-4c3d-b51d-7735187a3bc6"
      },
      "execution_count": null,
      "outputs": [
        {
          "output_type": "execute_result",
          "data": {
            "text/plain": [
              "<tf.Tensor: shape=(2, 2), dtype=int32, numpy=\n",
              "array([[100,  70],\n",
              "       [ 40,  50]], dtype=int32)>"
            ]
          },
          "metadata": {},
          "execution_count": 195
        }
      ]
    },
    {
      "cell_type": "code",
      "source": [
        "tt-10"
      ],
      "metadata": {
        "colab": {
          "base_uri": "https://localhost:8080/"
        },
        "id": "bIF3bILOuio7",
        "outputId": "13b0ae5b-ca4c-43d8-fa93-5c970ed3db7f"
      },
      "execution_count": null,
      "outputs": [
        {
          "output_type": "execute_result",
          "data": {
            "text/plain": [
              "<tf.Tensor: shape=(2, 2), dtype=int32, numpy=\n",
              "array([[ 0, -3],\n",
              "       [-6, -5]], dtype=int32)>"
            ]
          },
          "metadata": {},
          "execution_count": 196
        }
      ]
    },
    {
      "cell_type": "code",
      "source": [
        "tt/10"
      ],
      "metadata": {
        "colab": {
          "base_uri": "https://localhost:8080/"
        },
        "id": "Rem5iGr-ulUF",
        "outputId": "97e09da2-badb-40e2-9f21-6cbbaf504f55"
      },
      "execution_count": null,
      "outputs": [
        {
          "output_type": "execute_result",
          "data": {
            "text/plain": [
              "<tf.Tensor: shape=(2, 2), dtype=float64, numpy=\n",
              "array([[1. , 0.7],\n",
              "       [0.4, 0.5]])>"
            ]
          },
          "metadata": {},
          "execution_count": 197
        }
      ]
    },
    {
      "cell_type": "code",
      "source": [
        "#Let us use tenserflow  built in function too\n",
        "tf.multiply(tt,10)"
      ],
      "metadata": {
        "colab": {
          "base_uri": "https://localhost:8080/"
        },
        "id": "ZY3j-AI7ul8R",
        "outputId": "5eb0695e-2b6f-45c0-dcbe-db8c126ec082"
      },
      "execution_count": null,
      "outputs": [
        {
          "output_type": "execute_result",
          "data": {
            "text/plain": [
              "<tf.Tensor: shape=(2, 2), dtype=int32, numpy=\n",
              "array([[100,  70],\n",
              "       [ 40,  50]], dtype=int32)>"
            ]
          },
          "metadata": {},
          "execution_count": 198
        }
      ]
    },
    {
      "cell_type": "code",
      "source": [],
      "metadata": {
        "id": "khqWF-mpuujj"
      },
      "execution_count": null,
      "outputs": []
    },
    {
      "cell_type": "markdown",
      "source": [
        "### <font color='pink'>**Matrix Multiplication**</font>"
      ],
      "metadata": {
        "id": "t5iVmQ5Ou0Px"
      }
    },
    {
      "cell_type": "code",
      "source": [
        "tt"
      ],
      "metadata": {
        "colab": {
          "base_uri": "https://localhost:8080/"
        },
        "id": "k6KQEfgJu5HF",
        "outputId": "cbc18dd7-0661-4818-ec18-712cff07c52f"
      },
      "execution_count": null,
      "outputs": [
        {
          "output_type": "execute_result",
          "data": {
            "text/plain": [
              "<tf.Tensor: shape=(2, 2), dtype=int32, numpy=\n",
              "array([[10,  7],\n",
              "       [ 4,  5]], dtype=int32)>"
            ]
          },
          "metadata": {},
          "execution_count": 199
        }
      ]
    },
    {
      "cell_type": "code",
      "source": [
        "#Using matmul function\n",
        "tf.matmul(tt,tt)"
      ],
      "metadata": {
        "colab": {
          "base_uri": "https://localhost:8080/"
        },
        "id": "VktLPJTvvHpQ",
        "outputId": "2025dba6-98ae-4a18-ed56-d4f419a0ff16"
      },
      "execution_count": null,
      "outputs": [
        {
          "output_type": "execute_result",
          "data": {
            "text/plain": [
              "<tf.Tensor: shape=(2, 2), dtype=int32, numpy=\n",
              "array([[128, 105],\n",
              "       [ 60,  53]], dtype=int32)>"
            ]
          },
          "metadata": {},
          "execution_count": 200
        }
      ]
    },
    {
      "cell_type": "code",
      "source": [
        "#Using python operator @\n",
        "tt@tt"
      ],
      "metadata": {
        "colab": {
          "base_uri": "https://localhost:8080/"
        },
        "id": "EKwg6vduvSbZ",
        "outputId": "ba62de8c-c155-48b5-c715-d685fe5ad8a2"
      },
      "execution_count": null,
      "outputs": [
        {
          "output_type": "execute_result",
          "data": {
            "text/plain": [
              "<tf.Tensor: shape=(2, 2), dtype=int32, numpy=\n",
              "array([[128, 105],\n",
              "       [ 60,  53]], dtype=int32)>"
            ]
          },
          "metadata": {},
          "execution_count": 201
        }
      ]
    },
    {
      "cell_type": "code",
      "source": [],
      "metadata": {
        "id": "SMoyafGzvX3y"
      },
      "execution_count": null,
      "outputs": []
    },
    {
      "cell_type": "code",
      "source": [
        "#Reshaping Function"
      ],
      "metadata": {
        "id": "rAMay_TaC_O9"
      },
      "execution_count": null,
      "outputs": []
    },
    {
      "cell_type": "code",
      "source": [
        "rr=tf.ones(shape=(2,3))\n",
        "rr"
      ],
      "metadata": {
        "colab": {
          "base_uri": "https://localhost:8080/"
        },
        "id": "fet0WXzYDEmX",
        "outputId": "54cb69f4-e8d7-4b30-e0ea-d1c053346793"
      },
      "execution_count": null,
      "outputs": [
        {
          "output_type": "execute_result",
          "data": {
            "text/plain": [
              "<tf.Tensor: shape=(2, 3), dtype=float32, numpy=\n",
              "array([[1., 1., 1.],\n",
              "       [1., 1., 1.]], dtype=float32)>"
            ]
          },
          "metadata": {},
          "execution_count": 203
        }
      ]
    },
    {
      "cell_type": "code",
      "source": [
        "tf.reshape(rr,shape=(3,2))"
      ],
      "metadata": {
        "colab": {
          "base_uri": "https://localhost:8080/"
        },
        "id": "6tIaXNdyDJ0l",
        "outputId": "bc7ebd0e-06d1-400f-d104-76bc22042be3"
      },
      "execution_count": null,
      "outputs": [
        {
          "output_type": "execute_result",
          "data": {
            "text/plain": [
              "<tf.Tensor: shape=(3, 2), dtype=float32, numpy=\n",
              "array([[1., 1.],\n",
              "       [1., 1.],\n",
              "       [1., 1.]], dtype=float32)>"
            ]
          },
          "metadata": {},
          "execution_count": 204
        }
      ]
    },
    {
      "cell_type": "code",
      "source": [
        "#Transpose Operation"
      ],
      "metadata": {
        "id": "pitvFAnMDQ2a"
      },
      "execution_count": null,
      "outputs": []
    },
    {
      "cell_type": "code",
      "source": [
        "rr"
      ],
      "metadata": {
        "colab": {
          "base_uri": "https://localhost:8080/"
        },
        "id": "WnOyctlDDtD_",
        "outputId": "52019dff-b7f2-4a36-c307-7de3c3d52091"
      },
      "execution_count": null,
      "outputs": [
        {
          "output_type": "execute_result",
          "data": {
            "text/plain": [
              "<tf.Tensor: shape=(2, 3), dtype=float32, numpy=\n",
              "array([[1., 1., 1.],\n",
              "       [1., 1., 1.]], dtype=float32)>"
            ]
          },
          "metadata": {},
          "execution_count": 206
        }
      ]
    },
    {
      "cell_type": "code",
      "source": [
        "tf.transpose(rr)"
      ],
      "metadata": {
        "colab": {
          "base_uri": "https://localhost:8080/"
        },
        "id": "hGjctEngDt0F",
        "outputId": "81ac6d1f-f9f3-4b62-d6d8-2d4aaa719aa2"
      },
      "execution_count": null,
      "outputs": [
        {
          "output_type": "execute_result",
          "data": {
            "text/plain": [
              "<tf.Tensor: shape=(3, 2), dtype=float32, numpy=\n",
              "array([[1., 1.],\n",
              "       [1., 1.],\n",
              "       [1., 1.]], dtype=float32)>"
            ]
          },
          "metadata": {},
          "execution_count": 207
        }
      ]
    },
    {
      "cell_type": "code",
      "source": [],
      "metadata": {
        "id": "b177u7bzDvBQ"
      },
      "execution_count": null,
      "outputs": []
    },
    {
      "cell_type": "markdown",
      "source": [
        "### <font color='pink'>**Changing Dataype**</font>"
      ],
      "metadata": {
        "id": "ZXPbxdZZFdMp"
      }
    },
    {
      "cell_type": "code",
      "source": [
        "A=tf.constant([[1.2,4.6],\n",
        "               [2.6,12.3]])\n",
        "A"
      ],
      "metadata": {
        "colab": {
          "base_uri": "https://localhost:8080/"
        },
        "id": "pMyLxUe6EKbM",
        "outputId": "a2acfd22-d2f6-40d5-82fe-05b4af33ebe7"
      },
      "execution_count": null,
      "outputs": [
        {
          "output_type": "execute_result",
          "data": {
            "text/plain": [
              "<tf.Tensor: shape=(2, 2), dtype=float32, numpy=\n",
              "array([[ 1.2,  4.6],\n",
              "       [ 2.6, 12.3]], dtype=float32)>"
            ]
          },
          "metadata": {},
          "execution_count": 208
        }
      ]
    },
    {
      "cell_type": "code",
      "source": [
        "a=tf.cast(A,dtype=tf.float16)\n",
        "a"
      ],
      "metadata": {
        "colab": {
          "base_uri": "https://localhost:8080/"
        },
        "id": "1t7wNuXCFp8E",
        "outputId": "154dea7c-e311-4c9b-c0fd-b5e9248d95e5"
      },
      "execution_count": null,
      "outputs": [
        {
          "output_type": "execute_result",
          "data": {
            "text/plain": [
              "<tf.Tensor: shape=(2, 2), dtype=float16, numpy=\n",
              "array([[ 1.2,  4.6],\n",
              "       [ 2.6, 12.3]], dtype=float16)>"
            ]
          },
          "metadata": {},
          "execution_count": 209
        }
      ]
    },
    {
      "cell_type": "code",
      "source": [
        "a.dtype"
      ],
      "metadata": {
        "colab": {
          "base_uri": "https://localhost:8080/"
        },
        "id": "SdUbc4IfFrY7",
        "outputId": "024b692e-ad2f-4f56-8f68-4ef2f79c4651"
      },
      "execution_count": null,
      "outputs": [
        {
          "output_type": "execute_result",
          "data": {
            "text/plain": [
              "tf.float16"
            ]
          },
          "metadata": {},
          "execution_count": 210
        }
      ]
    },
    {
      "cell_type": "code",
      "source": [],
      "metadata": {
        "id": "R6OyE6sMGB0I"
      },
      "execution_count": null,
      "outputs": []
    },
    {
      "cell_type": "markdown",
      "source": [
        "### <font color='pink'>**Aggregation**</font>"
      ],
      "metadata": {
        "id": "y_Pk4T01GQ_s"
      }
    },
    {
      "cell_type": "code",
      "source": [
        "#Absolute values\n",
        "D=tf.constant([-2,-3])\n",
        "D"
      ],
      "metadata": {
        "colab": {
          "base_uri": "https://localhost:8080/"
        },
        "id": "1wLWeoHNGSrJ",
        "outputId": "37d93a61-a41b-4c1a-b604-b35062e2e218"
      },
      "execution_count": null,
      "outputs": [
        {
          "output_type": "execute_result",
          "data": {
            "text/plain": [
              "<tf.Tensor: shape=(2,), dtype=int32, numpy=array([-2, -3], dtype=int32)>"
            ]
          },
          "metadata": {},
          "execution_count": 211
        }
      ]
    },
    {
      "cell_type": "code",
      "source": [
        "tf.abs(D)"
      ],
      "metadata": {
        "colab": {
          "base_uri": "https://localhost:8080/"
        },
        "id": "lmizMsVhYq0x",
        "outputId": "67c00d38-1c04-4f3b-96a1-531f367bb9e8"
      },
      "execution_count": null,
      "outputs": [
        {
          "output_type": "execute_result",
          "data": {
            "text/plain": [
              "<tf.Tensor: shape=(2,), dtype=int32, numpy=array([2, 3], dtype=int32)>"
            ]
          },
          "metadata": {},
          "execution_count": 212
        }
      ]
    },
    {
      "cell_type": "code",
      "source": [],
      "metadata": {
        "id": "i96tWUskYsLq"
      },
      "execution_count": null,
      "outputs": []
    },
    {
      "cell_type": "code",
      "source": [
        "E=tf.constant(np.random.randint(1,100,size=50))\n",
        "E"
      ],
      "metadata": {
        "colab": {
          "base_uri": "https://localhost:8080/"
        },
        "id": "9nC_xAWpY34_",
        "outputId": "cf233b03-f8d1-465d-c6d7-6997564bd094"
      },
      "execution_count": null,
      "outputs": [
        {
          "output_type": "execute_result",
          "data": {
            "text/plain": [
              "<tf.Tensor: shape=(50,), dtype=int64, numpy=\n",
              "array([42, 28, 51, 44, 44, 47, 78, 48, 28, 23, 95, 86, 14, 70, 38,  4, 86,\n",
              "       72, 96, 55, 59, 82, 97, 12, 29, 23, 40, 87, 25, 15, 90, 67, 49, 49,\n",
              "       85, 82, 51, 43, 19, 22, 58, 80, 70, 62, 53, 21,  1, 65, 70, 88])>"
            ]
          },
          "metadata": {},
          "execution_count": 213
        }
      ]
    },
    {
      "cell_type": "code",
      "source": [],
      "metadata": {
        "id": "NJSd8Yf6Y8qb"
      },
      "execution_count": null,
      "outputs": []
    },
    {
      "cell_type": "code",
      "source": [
        "##min "
      ],
      "metadata": {
        "id": "wadXPTM3ZA_S"
      },
      "execution_count": null,
      "outputs": []
    },
    {
      "cell_type": "code",
      "source": [
        "tf.reduce_min(E)"
      ],
      "metadata": {
        "colab": {
          "base_uri": "https://localhost:8080/"
        },
        "id": "hu5n4PChZB8b",
        "outputId": "d588f6b4-734c-4e62-d842-bfe121c34838"
      },
      "execution_count": null,
      "outputs": [
        {
          "output_type": "execute_result",
          "data": {
            "text/plain": [
              "<tf.Tensor: shape=(), dtype=int64, numpy=1>"
            ]
          },
          "metadata": {},
          "execution_count": 215
        }
      ]
    },
    {
      "cell_type": "code",
      "source": [
        "#Max"
      ],
      "metadata": {
        "id": "i7vmezYXZDxt"
      },
      "execution_count": null,
      "outputs": []
    },
    {
      "cell_type": "code",
      "source": [
        "tf.reduce_max(E)"
      ],
      "metadata": {
        "colab": {
          "base_uri": "https://localhost:8080/"
        },
        "id": "z35Wf1zNZFpo",
        "outputId": "304e1c7b-aaaf-4442-8382-e6c55528d063"
      },
      "execution_count": null,
      "outputs": [
        {
          "output_type": "execute_result",
          "data": {
            "text/plain": [
              "<tf.Tensor: shape=(), dtype=int64, numpy=97>"
            ]
          },
          "metadata": {},
          "execution_count": 217
        }
      ]
    },
    {
      "cell_type": "code",
      "source": [
        "#Mean"
      ],
      "metadata": {
        "id": "ovSUEVOAZG3t"
      },
      "execution_count": null,
      "outputs": []
    },
    {
      "cell_type": "code",
      "source": [
        "tf.reduce_mean(E)"
      ],
      "metadata": {
        "colab": {
          "base_uri": "https://localhost:8080/"
        },
        "id": "uc61TzzkZJKM",
        "outputId": "eb832c3e-2c33-4277-fd46-ae30b5184d61"
      },
      "execution_count": null,
      "outputs": [
        {
          "output_type": "execute_result",
          "data": {
            "text/plain": [
              "<tf.Tensor: shape=(), dtype=int64, numpy=52>"
            ]
          },
          "metadata": {},
          "execution_count": 219
        }
      ]
    },
    {
      "cell_type": "code",
      "source": [
        "#Sum"
      ],
      "metadata": {
        "id": "C3mXDCRLZKJl"
      },
      "execution_count": null,
      "outputs": []
    },
    {
      "cell_type": "code",
      "source": [
        "tf.reduce_sum(E)"
      ],
      "metadata": {
        "colab": {
          "base_uri": "https://localhost:8080/"
        },
        "id": "9Ky-tGGuZMLH",
        "outputId": "dcf30b06-5e26-4e95-80d6-d7977edd7bcf"
      },
      "execution_count": null,
      "outputs": [
        {
          "output_type": "execute_result",
          "data": {
            "text/plain": [
              "<tf.Tensor: shape=(), dtype=int64, numpy=2643>"
            ]
          },
          "metadata": {},
          "execution_count": 221
        }
      ]
    },
    {
      "cell_type": "code",
      "source": [
        "#Variance and standard deviation"
      ],
      "metadata": {
        "id": "rP6C_Gt3ZNZ_"
      },
      "execution_count": null,
      "outputs": []
    },
    {
      "cell_type": "code",
      "source": [
        "import tensorflow_probability as tfp #We need tensorflow stats for variance"
      ],
      "metadata": {
        "id": "QZqCyrHcZSLt"
      },
      "execution_count": null,
      "outputs": []
    },
    {
      "cell_type": "code",
      "source": [
        "tfp.stats.variance(E)"
      ],
      "metadata": {
        "colab": {
          "base_uri": "https://localhost:8080/"
        },
        "id": "RQBIOOy8ZhV0",
        "outputId": "63251dda-d500-4d53-ecce-58ef9e2a1e42"
      },
      "execution_count": null,
      "outputs": [
        {
          "output_type": "execute_result",
          "data": {
            "text/plain": [
              "<tf.Tensor: shape=(), dtype=int64, numpy=709>"
            ]
          },
          "metadata": {},
          "execution_count": 224
        }
      ]
    },
    {
      "cell_type": "code",
      "source": [],
      "metadata": {
        "id": "kydRTI08c25g"
      },
      "execution_count": null,
      "outputs": []
    },
    {
      "cell_type": "code",
      "source": [
        "tf.math.reduce_variance(tf.cast(E,dtype=tf.float64))"
      ],
      "metadata": {
        "colab": {
          "base_uri": "https://localhost:8080/"
        },
        "id": "dWZYhsgRc3Pf",
        "outputId": "8e48c227-2e6a-4b2b-ff24-37f7dd451035"
      },
      "execution_count": null,
      "outputs": [
        {
          "output_type": "execute_result",
          "data": {
            "text/plain": [
              "<tf.Tensor: shape=(), dtype=float64, numpy=708.6004>"
            ]
          },
          "metadata": {},
          "execution_count": 225
        }
      ]
    },
    {
      "cell_type": "code",
      "source": [
        "tf.math.reduce_std(tf.cast(E,dtype='float64'))"
      ],
      "metadata": {
        "colab": {
          "base_uri": "https://localhost:8080/"
        },
        "id": "lCYwHHZiaLFF",
        "outputId": "bc2b2428-76d3-4be5-c213-0bf2cc667213"
      },
      "execution_count": null,
      "outputs": [
        {
          "output_type": "execute_result",
          "data": {
            "text/plain": [
              "<tf.Tensor: shape=(), dtype=float64, numpy=26.619549207302516>"
            ]
          },
          "metadata": {},
          "execution_count": 226
        }
      ]
    },
    {
      "cell_type": "code",
      "source": [],
      "metadata": {
        "id": "48oQUaO5aNEs"
      },
      "execution_count": null,
      "outputs": []
    },
    {
      "cell_type": "markdown",
      "source": [
        "## <font color='pink'>**Finding the positional maximum and minimum**</font>"
      ],
      "metadata": {
        "id": "V5R2wka6emz1"
      }
    },
    {
      "cell_type": "code",
      "source": [
        "tf.random.set_seed(42)\n",
        "F=tf.random.uniform(shape=[50])\n",
        "F"
      ],
      "metadata": {
        "colab": {
          "base_uri": "https://localhost:8080/"
        },
        "id": "7hzkY2ZucedU",
        "outputId": "85b8def0-0c1e-4085-e7b4-0f047c70e3fc"
      },
      "execution_count": null,
      "outputs": [
        {
          "output_type": "execute_result",
          "data": {
            "text/plain": [
              "<tf.Tensor: shape=(50,), dtype=float32, numpy=\n",
              "array([0.6645621 , 0.44100678, 0.3528825 , 0.46448255, 0.03366041,\n",
              "       0.68467236, 0.74011743, 0.8724445 , 0.22632635, 0.22319686,\n",
              "       0.3103881 , 0.7223358 , 0.13318717, 0.5480639 , 0.5746088 ,\n",
              "       0.8996835 , 0.00946367, 0.5212307 , 0.6345445 , 0.1993283 ,\n",
              "       0.72942245, 0.54583454, 0.10756552, 0.6767061 , 0.6602763 ,\n",
              "       0.33695042, 0.60141766, 0.21062577, 0.8527372 , 0.44062173,\n",
              "       0.9485276 , 0.23752594, 0.81179297, 0.5263394 , 0.494308  ,\n",
              "       0.21612847, 0.8457197 , 0.8718841 , 0.3083862 , 0.6868038 ,\n",
              "       0.23764038, 0.7817228 , 0.9671384 , 0.06870162, 0.79873943,\n",
              "       0.66028714, 0.5871513 , 0.16461694, 0.7381023 , 0.32054043],\n",
              "      dtype=float32)>"
            ]
          },
          "metadata": {},
          "execution_count": 227
        }
      ]
    },
    {
      "cell_type": "code",
      "source": [
        "#Finding positional maximum\n",
        "tf.argmax(F)"
      ],
      "metadata": {
        "colab": {
          "base_uri": "https://localhost:8080/"
        },
        "id": "N-rLlzsDe6EW",
        "outputId": "19f1af92-c472-4273-8a88-896d1560005a"
      },
      "execution_count": null,
      "outputs": [
        {
          "output_type": "execute_result",
          "data": {
            "text/plain": [
              "<tf.Tensor: shape=(), dtype=int64, numpy=42>"
            ]
          },
          "metadata": {},
          "execution_count": 228
        }
      ]
    },
    {
      "cell_type": "code",
      "source": [
        "#Index on the largest value position\n",
        "F[tf.argmax(F)]"
      ],
      "metadata": {
        "colab": {
          "base_uri": "https://localhost:8080/"
        },
        "id": "AL8ctB5vfFjS",
        "outputId": "c3523e9d-73e3-4843-c2df-5baeca8ecb14"
      },
      "execution_count": null,
      "outputs": [
        {
          "output_type": "execute_result",
          "data": {
            "text/plain": [
              "<tf.Tensor: shape=(), dtype=float32, numpy=0.9671384>"
            ]
          },
          "metadata": {},
          "execution_count": 229
        }
      ]
    },
    {
      "cell_type": "code",
      "source": [
        "#Find the max value of F\n",
        "tf.reduce_max(F)"
      ],
      "metadata": {
        "colab": {
          "base_uri": "https://localhost:8080/"
        },
        "id": "Jz1ejDavgBvq",
        "outputId": "51746a5c-8418-44e4-bf27-c06092133551"
      },
      "execution_count": null,
      "outputs": [
        {
          "output_type": "execute_result",
          "data": {
            "text/plain": [
              "<tf.Tensor: shape=(), dtype=float32, numpy=0.9671384>"
            ]
          },
          "metadata": {},
          "execution_count": 230
        }
      ]
    },
    {
      "cell_type": "code",
      "source": [],
      "metadata": {
        "id": "ltn1uebtgGRU"
      },
      "execution_count": null,
      "outputs": []
    },
    {
      "cell_type": "markdown",
      "source": [
        "## <font color='pink'>**Squeezing a tensor(removing all single dimensions)**</font>"
      ],
      "metadata": {
        "id": "y3cAwKo5isQC"
      }
    },
    {
      "cell_type": "markdown",
      "source": [
        "In TensorFlow, the tf.squeeze() function is used to remove dimensions of size 1 from a tensor. This can be useful in various situations, such as when you want to reduce the rank of a tensor or when you want to remove any extra dimensions that may have been introduced by a previous operation."
      ],
      "metadata": {
        "id": "8GHZ1AzikAe_"
      }
    },
    {
      "cell_type": "code",
      "source": [
        "tf.random.set_seed(42)\n",
        "G=tf.constant(tf.random.uniform(shape=[50]),shape=(1,1,1,50))\n",
        "G"
      ],
      "metadata": {
        "colab": {
          "base_uri": "https://localhost:8080/"
        },
        "id": "dOoF94pYi0pX",
        "outputId": "e776793b-d7c9-4946-df47-06d463b742a8"
      },
      "execution_count": null,
      "outputs": [
        {
          "output_type": "execute_result",
          "data": {
            "text/plain": [
              "<tf.Tensor: shape=(1, 1, 1, 50), dtype=float32, numpy=\n",
              "array([[[[0.6645621 , 0.44100678, 0.3528825 , 0.46448255, 0.03366041,\n",
              "          0.68467236, 0.74011743, 0.8724445 , 0.22632635, 0.22319686,\n",
              "          0.3103881 , 0.7223358 , 0.13318717, 0.5480639 , 0.5746088 ,\n",
              "          0.8996835 , 0.00946367, 0.5212307 , 0.6345445 , 0.1993283 ,\n",
              "          0.72942245, 0.54583454, 0.10756552, 0.6767061 , 0.6602763 ,\n",
              "          0.33695042, 0.60141766, 0.21062577, 0.8527372 , 0.44062173,\n",
              "          0.9485276 , 0.23752594, 0.81179297, 0.5263394 , 0.494308  ,\n",
              "          0.21612847, 0.8457197 , 0.8718841 , 0.3083862 , 0.6868038 ,\n",
              "          0.23764038, 0.7817228 , 0.9671384 , 0.06870162, 0.79873943,\n",
              "          0.66028714, 0.5871513 , 0.16461694, 0.7381023 , 0.32054043]]]],\n",
              "      dtype=float32)>"
            ]
          },
          "metadata": {},
          "execution_count": 231
        }
      ]
    },
    {
      "cell_type": "code",
      "source": [
        "G_squeeze=tf.squeeze(G)\n",
        "G_squeeze"
      ],
      "metadata": {
        "colab": {
          "base_uri": "https://localhost:8080/"
        },
        "id": "tab359hFjOtE",
        "outputId": "6c392d20-3b18-4c8b-ed59-1712f347ca6b"
      },
      "execution_count": null,
      "outputs": [
        {
          "output_type": "execute_result",
          "data": {
            "text/plain": [
              "<tf.Tensor: shape=(50,), dtype=float32, numpy=\n",
              "array([0.6645621 , 0.44100678, 0.3528825 , 0.46448255, 0.03366041,\n",
              "       0.68467236, 0.74011743, 0.8724445 , 0.22632635, 0.22319686,\n",
              "       0.3103881 , 0.7223358 , 0.13318717, 0.5480639 , 0.5746088 ,\n",
              "       0.8996835 , 0.00946367, 0.5212307 , 0.6345445 , 0.1993283 ,\n",
              "       0.72942245, 0.54583454, 0.10756552, 0.6767061 , 0.6602763 ,\n",
              "       0.33695042, 0.60141766, 0.21062577, 0.8527372 , 0.44062173,\n",
              "       0.9485276 , 0.23752594, 0.81179297, 0.5263394 , 0.494308  ,\n",
              "       0.21612847, 0.8457197 , 0.8718841 , 0.3083862 , 0.6868038 ,\n",
              "       0.23764038, 0.7817228 , 0.9671384 , 0.06870162, 0.79873943,\n",
              "       0.66028714, 0.5871513 , 0.16461694, 0.7381023 , 0.32054043],\n",
              "      dtype=float32)>"
            ]
          },
          "metadata": {},
          "execution_count": 232
        }
      ]
    },
    {
      "cell_type": "code",
      "source": [],
      "metadata": {
        "id": "Y-vl1Ylcjgit"
      },
      "execution_count": null,
      "outputs": []
    },
    {
      "cell_type": "markdown",
      "source": [
        "## <font color='pink'>**One Hot Encoding**</font>"
      ],
      "metadata": {
        "id": "3gZxREFrjyO4"
      }
    },
    {
      "cell_type": "code",
      "source": [
        "#Create a list of indices\n",
        "some_list=[0,1,2,3]     #could be red,blue,green,yellow\n",
        "\n",
        "\n",
        "#one hot encode of our list\n",
        "tf.one_hot(some_list,depth=4)"
      ],
      "metadata": {
        "colab": {
          "base_uri": "https://localhost:8080/"
        },
        "id": "WFF97rV5j00P",
        "outputId": "498cc076-4815-40c5-cfde-07ebb46bd576"
      },
      "execution_count": null,
      "outputs": [
        {
          "output_type": "execute_result",
          "data": {
            "text/plain": [
              "<tf.Tensor: shape=(4, 4), dtype=float32, numpy=\n",
              "array([[1., 0., 0., 0.],\n",
              "       [0., 1., 0., 0.],\n",
              "       [0., 0., 1., 0.],\n",
              "       [0., 0., 0., 1.]], dtype=float32)>"
            ]
          },
          "metadata": {},
          "execution_count": 233
        }
      ]
    },
    {
      "cell_type": "code",
      "source": [
        "#specify custom values for one hot encoding\n",
        "tf.one_hot(some_list,depth=4,on_value='Deep learning is fun',off_value='Life is tough')"
      ],
      "metadata": {
        "colab": {
          "base_uri": "https://localhost:8080/"
        },
        "id": "IQ250o5ckoUb",
        "outputId": "52f2b310-8b55-410e-eaf3-08cc35c04061"
      },
      "execution_count": null,
      "outputs": [
        {
          "output_type": "execute_result",
          "data": {
            "text/plain": [
              "<tf.Tensor: shape=(4, 4), dtype=string, numpy=\n",
              "array([[b'Deep learning is fun', b'Life is tough', b'Life is tough',\n",
              "        b'Life is tough'],\n",
              "       [b'Life is tough', b'Deep learning is fun', b'Life is tough',\n",
              "        b'Life is tough'],\n",
              "       [b'Life is tough', b'Life is tough', b'Deep learning is fun',\n",
              "        b'Life is tough'],\n",
              "       [b'Life is tough', b'Life is tough', b'Life is tough',\n",
              "        b'Deep learning is fun']], dtype=object)>"
            ]
          },
          "metadata": {},
          "execution_count": 234
        }
      ]
    },
    {
      "cell_type": "code",
      "source": [],
      "metadata": {
        "id": "7QmRci5vk_dF"
      },
      "execution_count": null,
      "outputs": []
    },
    {
      "cell_type": "markdown",
      "source": [
        "## <font color='pink'>**More Maths Function**</font>"
      ],
      "metadata": {
        "id": "Gqmj5sI4sDYf"
      }
    },
    {
      "cell_type": "markdown",
      "source": [
        "- Square\n",
        "- Log\n",
        "- Square Root"
      ],
      "metadata": {
        "id": "bbEcmOqxsH-g"
      }
    },
    {
      "cell_type": "code",
      "source": [],
      "metadata": {
        "id": "0AesgXGnsHEz"
      },
      "execution_count": null,
      "outputs": []
    },
    {
      "cell_type": "code",
      "source": [
        "H=tf.range(1,10)\n",
        "H"
      ],
      "metadata": {
        "colab": {
          "base_uri": "https://localhost:8080/"
        },
        "id": "G9_xterJsSvj",
        "outputId": "a2c513f4-e2e8-4f81-9119-6c7b002318b1"
      },
      "execution_count": null,
      "outputs": [
        {
          "output_type": "execute_result",
          "data": {
            "text/plain": [
              "<tf.Tensor: shape=(9,), dtype=int32, numpy=array([1, 2, 3, 4, 5, 6, 7, 8, 9], dtype=int32)>"
            ]
          },
          "metadata": {},
          "execution_count": 235
        }
      ]
    },
    {
      "cell_type": "code",
      "source": [
        "H.numpy()"
      ],
      "metadata": {
        "colab": {
          "base_uri": "https://localhost:8080/"
        },
        "id": "S40ldzvasV_j",
        "outputId": "7b50d46c-a586-41aa-d1b1-abf9ba397136"
      },
      "execution_count": null,
      "outputs": [
        {
          "output_type": "execute_result",
          "data": {
            "text/plain": [
              "array([1, 2, 3, 4, 5, 6, 7, 8, 9], dtype=int32)"
            ]
          },
          "metadata": {},
          "execution_count": 236
        }
      ]
    },
    {
      "cell_type": "code",
      "source": [
        "#Square\n",
        "tf.square(H)"
      ],
      "metadata": {
        "colab": {
          "base_uri": "https://localhost:8080/"
        },
        "id": "Ys0m2aPmsY1l",
        "outputId": "5e45f1a1-c5f1-49f9-a901-b3aa054aa4b9"
      },
      "execution_count": null,
      "outputs": [
        {
          "output_type": "execute_result",
          "data": {
            "text/plain": [
              "<tf.Tensor: shape=(9,), dtype=int32, numpy=array([ 1,  4,  9, 16, 25, 36, 49, 64, 81], dtype=int32)>"
            ]
          },
          "metadata": {},
          "execution_count": 237
        }
      ]
    },
    {
      "cell_type": "code",
      "source": [
        "#Finding the SquareRoot\n",
        "tf.sqrt(tf.cast(H,dtype=tf.float32))"
      ],
      "metadata": {
        "colab": {
          "base_uri": "https://localhost:8080/"
        },
        "id": "btlLEdQisbaE",
        "outputId": "ec033a9a-2f83-4e75-8c14-b444134d98b1"
      },
      "execution_count": null,
      "outputs": [
        {
          "output_type": "execute_result",
          "data": {
            "text/plain": [
              "<tf.Tensor: shape=(9,), dtype=float32, numpy=\n",
              "array([1.       , 1.4142135, 1.7320508, 2.       , 2.236068 , 2.4494898,\n",
              "       2.6457512, 2.828427 , 3.       ], dtype=float32)>"
            ]
          },
          "metadata": {},
          "execution_count": 238
        }
      ]
    },
    {
      "cell_type": "code",
      "source": [
        "#Log Function\n",
        "tf.math.log(tf.cast(H,dtype=tf.float32))"
      ],
      "metadata": {
        "colab": {
          "base_uri": "https://localhost:8080/"
        },
        "id": "vxMY7wGmsfq0",
        "outputId": "a8f4b7be-fa30-43b0-ef58-471f69842951"
      },
      "execution_count": null,
      "outputs": [
        {
          "output_type": "execute_result",
          "data": {
            "text/plain": [
              "<tf.Tensor: shape=(9,), dtype=float32, numpy=\n",
              "array([0.       , 0.6931472, 1.0986123, 1.3862944, 1.609438 , 1.7917595,\n",
              "       1.9459102, 2.0794415, 2.1972246], dtype=float32)>"
            ]
          },
          "metadata": {},
          "execution_count": 239
        }
      ]
    },
    {
      "cell_type": "code",
      "source": [],
      "metadata": {
        "id": "cQRs51GKswR0"
      },
      "execution_count": null,
      "outputs": []
    },
    {
      "cell_type": "code",
      "source": [],
      "metadata": {
        "id": "uSwNSB2p03R7"
      },
      "execution_count": null,
      "outputs": []
    },
    {
      "cell_type": "markdown",
      "source": [
        "## <font color='pink'>**Numpy and Tensors**</font>"
      ],
      "metadata": {
        "id": "miZJ5lzk03ZM"
      }
    },
    {
      "cell_type": "code",
      "source": [
        "J=tf.constant(np.array([2.,3.,7.]))\n",
        "J"
      ],
      "metadata": {
        "colab": {
          "base_uri": "https://localhost:8080/"
        },
        "id": "xFzLGyFj06Pc",
        "outputId": "21004711-f40d-4651-f460-b468fa800634"
      },
      "execution_count": null,
      "outputs": [
        {
          "output_type": "execute_result",
          "data": {
            "text/plain": [
              "<tf.Tensor: shape=(3,), dtype=float64, numpy=array([2., 3., 7.])>"
            ]
          },
          "metadata": {},
          "execution_count": 240
        }
      ]
    },
    {
      "cell_type": "code",
      "source": [
        "#Converting our tensor back to array\n",
        "np.array(J)"
      ],
      "metadata": {
        "colab": {
          "base_uri": "https://localhost:8080/"
        },
        "id": "sdpRyErA1Btg",
        "outputId": "cd133868-3663-4459-a720-69762f5b2315"
      },
      "execution_count": null,
      "outputs": [
        {
          "output_type": "execute_result",
          "data": {
            "text/plain": [
              "array([2., 3., 7.])"
            ]
          },
          "metadata": {},
          "execution_count": 241
        }
      ]
    },
    {
      "cell_type": "code",
      "source": [
        "#Accessing the element\n",
        "J=tf.constant([3.])\n",
        "print(J.numpy())\n",
        "J.numpy()[0]"
      ],
      "metadata": {
        "colab": {
          "base_uri": "https://localhost:8080/"
        },
        "id": "HDAPDriO1Oyg",
        "outputId": "fd0a13dd-622e-49a5-9f2a-65593250e007"
      },
      "execution_count": null,
      "outputs": [
        {
          "output_type": "stream",
          "name": "stdout",
          "text": [
            "[3.]\n"
          ]
        },
        {
          "output_type": "execute_result",
          "data": {
            "text/plain": [
              "3.0"
            ]
          },
          "metadata": {},
          "execution_count": 244
        }
      ]
    },
    {
      "cell_type": "code",
      "source": [
        "#The default types of each are different\n",
        "numpy_J=tf.constant(np.array([3.,4.,5.]))\n",
        "tensor_J=tf.constant([3.,4.,5.])"
      ],
      "metadata": {
        "id": "_Z7YPIwI1jj4"
      },
      "execution_count": null,
      "outputs": []
    },
    {
      "cell_type": "code",
      "source": [
        "#Checking the datatypes of each\n",
        "print(numpy_J.dtype)\n",
        "print(tensor_J.dtype)"
      ],
      "metadata": {
        "colab": {
          "base_uri": "https://localhost:8080/"
        },
        "id": "gcRMVUGt2xbT",
        "outputId": "8164727b-8fc4-4cd0-fb31-45ec2fbe5b5b"
      },
      "execution_count": null,
      "outputs": [
        {
          "output_type": "stream",
          "name": "stdout",
          "text": [
            "<dtype: 'float64'>\n",
            "<dtype: 'float32'>\n"
          ]
        }
      ]
    },
    {
      "cell_type": "code",
      "source": [],
      "metadata": {
        "id": "M1Raw1mO2-Wl"
      },
      "execution_count": null,
      "outputs": []
    },
    {
      "cell_type": "markdown",
      "source": [
        "## <font color='pink'>**Finding access to GPUs**</font>"
      ],
      "metadata": {
        "id": "9gDqjqki4jW4"
      }
    },
    {
      "cell_type": "code",
      "source": [
        "tf.config.list_physical_devices()"
      ],
      "metadata": {
        "colab": {
          "base_uri": "https://localhost:8080/"
        },
        "id": "r9OOmpMu4nri",
        "outputId": "df46abe3-471f-48dc-d9b8-f853ad8ba41e"
      },
      "execution_count": null,
      "outputs": [
        {
          "output_type": "execute_result",
          "data": {
            "text/plain": [
              "[PhysicalDevice(name='/physical_device:CPU:0', device_type='CPU')]"
            ]
          },
          "metadata": {},
          "execution_count": 248
        }
      ]
    },
    {
      "cell_type": "code",
      "source": [
        "tf.config.list_physical_devices(\"GPU\")"
      ],
      "metadata": {
        "colab": {
          "base_uri": "https://localhost:8080/"
        },
        "id": "5vvKT7Lg5Fc3",
        "outputId": "2ea5e0a6-e8f2-44e4-80bd-f33e489afc45"
      },
      "execution_count": null,
      "outputs": [
        {
          "output_type": "execute_result",
          "data": {
            "text/plain": [
              "[]"
            ]
          },
          "metadata": {},
          "execution_count": 249
        }
      ]
    },
    {
      "cell_type": "code",
      "source": [
        "#We do not have accesS"
      ],
      "metadata": {
        "id": "ZjRnDQ4q5OSg"
      },
      "execution_count": null,
      "outputs": []
    },
    {
      "cell_type": "code",
      "source": [
        "import tensorflow as tf\n",
        "tf.config.list_physical_devices()"
      ],
      "metadata": {
        "colab": {
          "base_uri": "https://localhost:8080/"
        },
        "id": "TedRSSKW5QZr",
        "outputId": "ede4848e-7b3e-4809-87e4-d04b27fa712a"
      },
      "execution_count": null,
      "outputs": [
        {
          "output_type": "execute_result",
          "data": {
            "text/plain": [
              "[PhysicalDevice(name='/physical_device:CPU:0', device_type='CPU'),\n",
              " PhysicalDevice(name='/physical_device:GPU:0', device_type='GPU')]"
            ]
          },
          "metadata": {},
          "execution_count": 1
        }
      ]
    },
    {
      "cell_type": "code",
      "source": [
        "tf.config.list_physical_devices(\"GPU\")"
      ],
      "metadata": {
        "colab": {
          "base_uri": "https://localhost:8080/"
        },
        "id": "my_kC4Rl7Kih",
        "outputId": "cfc19551-2505-44c6-e816-3d5194f691de"
      },
      "execution_count": null,
      "outputs": [
        {
          "output_type": "execute_result",
          "data": {
            "text/plain": [
              "[PhysicalDevice(name='/physical_device:GPU:0', device_type='GPU')]"
            ]
          },
          "metadata": {},
          "execution_count": 2
        }
      ]
    },
    {
      "cell_type": "code",
      "source": [
        "!nvidia-smi"
      ],
      "metadata": {
        "id": "8_VozGsH7TAH",
        "outputId": "5e74944d-80e5-4908-f14c-5553a39c5e51",
        "colab": {
          "base_uri": "https://localhost:8080/"
        }
      },
      "execution_count": null,
      "outputs": [
        {
          "output_type": "stream",
          "name": "stdout",
          "text": [
            "Thu Mar 16 19:37:27 2023       \n",
            "+-----------------------------------------------------------------------------+\n",
            "| NVIDIA-SMI 525.85.12    Driver Version: 525.85.12    CUDA Version: 12.0     |\n",
            "|-------------------------------+----------------------+----------------------+\n",
            "| GPU  Name        Persistence-M| Bus-Id        Disp.A | Volatile Uncorr. ECC |\n",
            "| Fan  Temp  Perf  Pwr:Usage/Cap|         Memory-Usage | GPU-Util  Compute M. |\n",
            "|                               |                      |               MIG M. |\n",
            "|===============================+======================+======================|\n",
            "|   0  Tesla T4            Off  | 00000000:00:04.0 Off |                    0 |\n",
            "| N/A   55C    P8     9W /  70W |      3MiB / 15360MiB |      0%      Default |\n",
            "|                               |                      |                  N/A |\n",
            "+-------------------------------+----------------------+----------------------+\n",
            "                                                                               \n",
            "+-----------------------------------------------------------------------------+\n",
            "| Processes:                                                                  |\n",
            "|  GPU   GI   CI        PID   Type   Process name                  GPU Memory |\n",
            "|        ID   ID                                                   Usage      |\n",
            "|=============================================================================|\n",
            "|  No running processes found                                                 |\n",
            "+-----------------------------------------------------------------------------+\n"
          ]
        }
      ]
    },
    {
      "cell_type": "code",
      "source": [],
      "metadata": {
        "id": "YVv7xnh27Vkl"
      },
      "execution_count": null,
      "outputs": []
    }
  ]
}